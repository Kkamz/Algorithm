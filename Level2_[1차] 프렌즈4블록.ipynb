{
 "cells": [
  {
   "cell_type": "code",
   "execution_count": 1,
   "metadata": {},
   "outputs": [],
   "source": [
    "#문제 설명\n",
    "#프렌즈4블록\n",
    "#블라인드 공채를 통과한 신입 사원 라이언은 신규 게임 개발 업무를 맡게 되었다. 이번에 출시할 게임 제목은 \"프렌즈4블록\".\n",
    "#같은 모양의 카카오프렌즈 블록이 2\u0014×2 형태로 4개가 붙어있을 경우 사라지면서 점수를 얻는 게임이다.\n",
    "#\n",
    "#board map\n",
    "#만약 판이 위와 같이 주어질 경우, 라이언이 2×2로 배치된 7개 블록과 콘이 2×2로 배치된 4개 블록이 지워진다. 같은 블록은 여러 2×2에 포함될 수 있으며, 지워지는 조건에 만족하는 2×2 모양이 여러 개 있다면 한꺼번에 지워진다.\n",
    "#\n",
    "#board map\n",
    "#\n",
    "#블록이 지워진 후에 위에 있는 블록이 아래로 떨어져 빈 공간을 채우게 된다.\n",
    "#\n",
    "#board map\n",
    "#\n",
    "#만약 빈 공간을 채운 후에 다시 2×2 형태로 같은 모양의 블록이 모이면 다시 지워지고 떨어지고를 반복하게 된다.\n",
    "#board map\n",
    "#\n",
    "#위 초기 배치를 문자로 표시하면 아래와 같다.\n",
    "#\n",
    "#TTTANT\n",
    "#RRFACC\n",
    "#RRRFCC\n",
    "#TRRRAA\n",
    "#TTMMMF\n",
    "#TMMTTJ\n",
    "#각 문자는 라이언(R), 무지(M), 어피치(A), 프로도(F), 네오(N), 튜브(T), 제이지(J), 콘(C)을 의미한다\n",
    "#\n",
    "#입력으로 블록의 첫 배치가 주어졌을 때, 지워지는 블록은 모두 몇 개인지 판단하는 프로그램을 제작하라.\n",
    "#\n",
    "#입력 형식\n",
    "#입력으로 판의 높이 m, 폭 n과 판의 배치 정보 board가 들어온다.\n",
    "#2 ≦ n, m ≦ 30\n",
    "#board는 길이 n인 문자열 m개의 배열로 주어진다. 블록을 나타내는 문자는 대문자 A에서 Z가 사용된다.\n",
    "#출력 형식\n",
    "#입력으로 주어진 판 정보를 가지고 몇 개의 블록이 지워질지 출력하라."
   ]
  },
  {
   "cell_type": "code",
   "execution_count": 3,
   "metadata": {},
   "outputs": [],
   "source": [
    "def pop_block(b,m,n):\n",
    "    pop_set = set()\n",
    "    for i in range(1,n):\n",
    "        for j in range(1,m):\n",
    "            if b[i][j] == b[i-1][j-1] == b[i-1][j] == b[i][j-1] != '_':\n",
    "                pop_set |= set([(i, j), (i-1, j-1), (i-1, j), (i, j-1)])\n",
    "    \n",
    "    for i,j in pop_set:\n",
    "        b[i][j] = 0\n",
    "    for i, row in enumerate(b):\n",
    "        empty = ['_'] * row.count(0)\n",
    "        b[i] = empty + [block for block in row if block != 0]\n",
    "    return len(pop_set)\n",
    "     \n",
    "def solution(m, n, board):\n",
    "    count = 0\n",
    "    b = list(map(list,zip(*board)))\n",
    "    while True:\n",
    "        pop = pop_block(b, m, n)\n",
    "        if pop == 0: return count\n",
    "        count += pop"
   ]
  },
  {
   "cell_type": "code",
   "execution_count": 4,
   "metadata": {},
   "outputs": [
    {
     "data": {
      "text/plain": [
       "14"
      ]
     },
     "execution_count": 4,
     "metadata": {},
     "output_type": "execute_result"
    }
   ],
   "source": [
    "board = [\"CCBDE\", \"AAADE\", \"AAABF\", \"CCBBF\"]\n",
    "m = 4\n",
    "n = 5\n",
    "solution(m, n, board)"
   ]
  },
  {
   "cell_type": "code",
   "execution_count": 5,
   "metadata": {},
   "outputs": [
    {
     "data": {
      "text/plain": [
       "15"
      ]
     },
     "execution_count": 5,
     "metadata": {},
     "output_type": "execute_result"
    }
   ],
   "source": [
    "board = [\"TTTANT\", \"RRFACC\", \"RRRFCC\", \"TRRRAA\", \"TTMMMF\", \"TMMTTJ\"]\n",
    "m = 6\n",
    "n = 6\n",
    "solution(m, n, board)"
   ]
  },
  {
   "cell_type": "code",
   "execution_count": null,
   "metadata": {},
   "outputs": [],
   "source": []
  }
 ],
 "metadata": {
  "kernelspec": {
   "display_name": "Python 3",
   "language": "python",
   "name": "python3"
  },
  "language_info": {
   "codemirror_mode": {
    "name": "ipython",
    "version": 3
   },
   "file_extension": ".py",
   "mimetype": "text/x-python",
   "name": "python",
   "nbconvert_exporter": "python",
   "pygments_lexer": "ipython3",
   "version": "3.8.5"
  }
 },
 "nbformat": 4,
 "nbformat_minor": 4
}
