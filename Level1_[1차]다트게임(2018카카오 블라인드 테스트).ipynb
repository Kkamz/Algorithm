{
 "cells": [
  {
   "cell_type": "markdown",
   "id": "289fdfc8",
   "metadata": {},
   "source": [
    "카카오톡 게임별의 하반기 신규 서비스로 다트 게임을 출시하기로 했다. 다트 게임은 다트판에 다트를 세 차례 던져 그 점수의 합계로 실력을 겨루는 게임으로, 모두가 간단히 즐길 수 있다.\n",
    "갓 입사한 무지는 코딩 실력을 인정받아 게임의 핵심 부분인 점수 계산 로직을 맡게 되었다. 다트 게임의 점수 계산 로직은 아래와 같다.\n",
    "\n",
    "다트 게임은 총 3번의 기회로 구성된다.\n",
    "각 기회마다 얻을 수 있는 점수는 0점에서 10점까지이다.\n",
    "점수와 함께 Single(S), Double(D), Triple(T) 영역이 존재하고 각 영역 당첨 시 점수에서 1제곱, 2제곱, 3제곱 (점수1 , 점수2 , 점수3 )으로 계산된다.\n",
    "옵션으로 스타상(*) , 아차상(#)이 존재하며 스타상(*) 당첨 시 해당 점수와 바로 전에 얻은 점수를 각 2배로 만든다. 아차상(#) 당첨 시 해당 점수는 마이너스된다.\n",
    "스타상(*)은 첫 번째 기회에서도 나올 수 있다. 이 경우 첫 번째 스타상(*)의 점수만 2배가 된다. (예제 4번 참고)\n",
    "스타상(*)의 효과는 다른 스타상(*)의 효과와 중첩될 수 있다. 이 경우 중첩된 스타상(*) 점수는 4배가 된다. (예제 4번 참고)\n",
    "스타상(*)의 효과는 아차상(#)의 효과와 중첩될 수 있다. 이 경우 중첩된 아차상(#)의 점수는 -2배가 된다. (예제 5번 참고)\n",
    "Single(S), Double(D), Triple(T)은 점수마다 하나씩 존재한다.\n",
    "스타상(*), 아차상(#)은 점수마다 둘 중 하나만 존재할 수 있으며, 존재하지 않을 수도 있다.\n",
    "0~10의 정수와 문자 S, D, T, *, #로 구성된 문자열이 입력될 시 총점수를 반환하는 함수를 작성하라.\n",
    "    \n",
    "    입력 형식\n",
    "\"점수|보너스|[옵션]\"으로 이루어진 문자열 3세트.\n",
    "예) 1S2D*3T\n",
    "\n",
    "점수는 0에서 10 사이의 정수이다.\n",
    "보너스는 S, D, T 중 하나이다.\n",
    "옵선은 *이나 # 중 하나이며, 없을 수도 있다.\n",
    "출력 형식\n",
    "3번의 기회에서 얻은 점수 합계에 해당하는 정수값을 출력한다.\n",
    "예) 37\n",
    "\n",
    "입출력 예제\n",
    "    \n",
    "```    \n",
    "예제\tdartResult\t answer\t   설명\n",
    "1\t1S2D*3T\t      37\t    11 * 2 + 22 * 2 + 33\n",
    "2\t1D2S#10S\t   9\t    12 + 21 * (-1) + 101\n",
    "3\t1D2S0T\t       3\t    12 + 21 + 03\n",
    "4\t1S*2T*3S\t   23\t    11 * 2 * 2 + 23 * 2 + 31\n",
    "5\t1D#2S*3S\t   5\t    12 * (-1) * 2 + 21 * 2 + 31\n",
    "6\t1T2D3D#\t       -4\t    13 + 22 + 32 * (-1)\n",
    "7\t1D2S3T*  \t   59\t    12 + 21 * 2 + 33 * 2\n",
    "```"
   ]
  },
  {
   "cell_type": "code",
   "execution_count": 4,
   "id": "4c67cb2e",
   "metadata": {},
   "outputs": [],
   "source": [
    "def solution(dartResult):\n",
    "    n = \"\"\n",
    "    score = []\n",
    "    for i in dartResult:\n",
    "        if i.isdigit():\n",
    "            n += i\n",
    "        elif i ==\"S\":\n",
    "            n = int(n)**1\n",
    "            score.append(n)\n",
    "            n = \"\"\n",
    "        elif i ==\"D\":\n",
    "            n = int(n)**2\n",
    "            score.append(n)\n",
    "            n = \"\"\n",
    "        elif i ==\"T\":\n",
    "            n = int(n)**3\n",
    "            score.append(n)\n",
    "            n = \"\"\n",
    "        elif i ==\"*\":\n",
    "            if len(score) > 1:\n",
    "                score[-1] *= 2\n",
    "                score[-2] *= 2\n",
    "            else:\n",
    "                score[-1] *=2\n",
    "        elif i == \"#\":\n",
    "                score[-1] *= (-1)\n",
    "                \n",
    "    return sum(score)"
   ]
  },
  {
   "cell_type": "code",
   "execution_count": 5,
   "id": "fc88c805",
   "metadata": {},
   "outputs": [
    {
     "data": {
      "text/plain": [
       "37"
      ]
     },
     "execution_count": 5,
     "metadata": {},
     "output_type": "execute_result"
    }
   ],
   "source": [
    "solution(\"1S2D*3T\")"
   ]
  },
  {
   "cell_type": "code",
   "execution_count": null,
   "id": "a398c1bf",
   "metadata": {},
   "outputs": [],
   "source": []
  }
 ],
 "metadata": {
  "kernelspec": {
   "display_name": "Python 3",
   "language": "python",
   "name": "python3"
  },
  "language_info": {
   "codemirror_mode": {
    "name": "ipython",
    "version": 3
   },
   "file_extension": ".py",
   "mimetype": "text/x-python",
   "name": "python",
   "nbconvert_exporter": "python",
   "pygments_lexer": "ipython3",
   "version": "3.8.8"
  }
 },
 "nbformat": 4,
 "nbformat_minor": 5
}
