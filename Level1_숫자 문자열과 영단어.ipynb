{
 "cells": [
  {
   "cell_type": "code",
   "execution_count": 2,
   "metadata": {},
   "outputs": [],
   "source": [
    "#네오와 프로도가 숫자놀이를 하고 있습니다. 네오가 프로도에게 숫자를 건넬 때 일부 자릿수를 영단어로 바꾼 카드를 건네주면 프로도는 \n",
    "#원래 숫자를 찾는 게임입니다.\n",
    "#\n",
    "#다음은 숫자의 일부 자릿수를 영단어로 바꾸는 예시입니다.\n",
    "#\n",
    "#1478 → \"one4seveneight\"\n",
    "#234567 → \"23four5six7\"\n",
    "#10203 → \"1zerotwozero3\"\n",
    "#이렇게 숫자의 일부 자릿수가 영단어로 바뀌어졌거나, 혹은 바뀌지 않고 그대로인 문자열 s가 매개변수로 주어집니다. \n",
    "#s가 의미하는 원래 숫자를 return 하도록 solution 함수를 완성해주세요.\n",
    "#\n",
    "#참고로 각 숫자에 대응되는 영단어는 다음 표와 같습니다.\n",
    "#숫자\t영단어\n",
    "#0\tzero\n",
    "#1\tone\n",
    "#2\ttwo\n",
    "#3\tthree\n",
    "#4\tfour\n",
    "#5\tfive\n",
    "#6\tsix\n",
    "#7\tseven\n",
    "#8\teight\n",
    "#9\tnine\n",
    "#제한사항\n",
    "#1 ≤ s의 길이 ≤ 50\n",
    "#s가 \"zero\" 또는 \"0\"으로 시작하는 경우는 주어지지 않습니다.\n",
    "#return 값이 1 이상 2,000,000,000 이하의 정수가 되는 올바른 입력만 s로 주어집니다"
   ]
  },
  {
   "cell_type": "code",
   "execution_count": 3,
   "metadata": {},
   "outputs": [],
   "source": [
    "def solution(s):\n",
    "    numbers=['zero','one','two','three','four','five','six','seven','eight','nine']\n",
    "    answer=\"\"\n",
    "    for idx, num in enumerate(numbers):\n",
    "        if num in s:\n",
    "            s = s.replace(num, str(idx))\n",
    "        answer = s\n",
    "\n",
    "    return int(answer)"
   ]
  },
  {
   "cell_type": "code",
   "execution_count": 4,
   "metadata": {},
   "outputs": [
    {
     "data": {
      "text/plain": [
       "1478"
      ]
     },
     "execution_count": 4,
     "metadata": {},
     "output_type": "execute_result"
    }
   ],
   "source": [
    "solution(\"one4seveneight\")"
   ]
  },
  {
   "cell_type": "code",
   "execution_count": null,
   "metadata": {},
   "outputs": [],
   "source": []
  }
 ],
 "metadata": {
  "kernelspec": {
   "display_name": "Python 3",
   "language": "python",
   "name": "python3"
  },
  "language_info": {
   "codemirror_mode": {
    "name": "ipython",
    "version": 3
   },
   "file_extension": ".py",
   "mimetype": "text/x-python",
   "name": "python",
   "nbconvert_exporter": "python",
   "pygments_lexer": "ipython3",
   "version": "3.8.5"
  }
 },
 "nbformat": 4,
 "nbformat_minor": 4
}
