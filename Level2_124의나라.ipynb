{
 "cells": [
  {
   "cell_type": "markdown",
   "id": "41f1abd6",
   "metadata": {},
   "source": [
    "문제 설명\n",
    "124 나라가 있습니다. 124 나라에서는 10진법이 아닌 다음과 같은 자신들만의 규칙으로 수를 표현합니다.\n",
    "\n",
    "124 나라에는 자연수만 존재합니다.\n",
    "124 나라에는 모든 수를 표현할 때 1, 2, 4만 사용합니다.\n",
    "예를 들어서 124 나라에서 사용하는 숫자는 다음과 같이 변환됩니다.\n",
    "```\n",
    "10진법\t124 나라\t10진법\t124 나라\n",
    "1\t         1\t       6\t     14\n",
    "2\t         2\t       7\t     21\n",
    "3\t         4\t       8\t     22\n",
    "4\t         11\t       9\t     24 \n",
    "5\t         12\t       10\t     41\n",
    "```\n",
    "자연수 n이 매개변수로 주어질 때, n을 124 나라에서 사용하는 숫자로 바꾼 값을 return 하도록 solution 함수를 완성해 주세요."
   ]
  },
  {
   "cell_type": "code",
   "execution_count": 12,
   "id": "dcc577f4",
   "metadata": {},
   "outputs": [],
   "source": [
    "def solution(n):\n",
    "    answer = \"\"\n",
    "    while n > 0:\n",
    "        n -= 1\n",
    "        answer = \"124\"[n%3] + answer\n",
    "        n = n//3\n",
    "    return answer"
   ]
  },
  {
   "cell_type": "code",
   "execution_count": 13,
   "id": "9d423f4d",
   "metadata": {},
   "outputs": [
    {
     "data": {
      "text/plain": [
       "'12'"
      ]
     },
     "execution_count": 13,
     "metadata": {},
     "output_type": "execute_result"
    }
   ],
   "source": [
    "solution(5)"
   ]
  },
  {
   "cell_type": "code",
   "execution_count": 14,
   "id": "6f8c4515",
   "metadata": {},
   "outputs": [
    {
     "data": {
      "text/plain": [
       "'421'"
      ]
     },
     "execution_count": 14,
     "metadata": {},
     "output_type": "execute_result"
    }
   ],
   "source": [
    "solution(34)"
   ]
  },
  {
   "cell_type": "code",
   "execution_count": 15,
   "id": "4cc3de95",
   "metadata": {},
   "outputs": [
    {
     "data": {
      "text/plain": [
       "'14'"
      ]
     },
     "execution_count": 15,
     "metadata": {},
     "output_type": "execute_result"
    }
   ],
   "source": [
    "solution(6)"
   ]
  },
  {
   "cell_type": "code",
   "execution_count": null,
   "id": "34d4e72a",
   "metadata": {},
   "outputs": [],
   "source": []
  }
 ],
 "metadata": {
  "kernelspec": {
   "display_name": "Python 3 (ipykernel)",
   "language": "python",
   "name": "python3"
  },
  "language_info": {
   "codemirror_mode": {
    "name": "ipython",
    "version": 3
   },
   "file_extension": ".py",
   "mimetype": "text/x-python",
   "name": "python",
   "nbconvert_exporter": "python",
   "pygments_lexer": "ipython3",
   "version": "3.9.7"
  }
 },
 "nbformat": 4,
 "nbformat_minor": 5
}
