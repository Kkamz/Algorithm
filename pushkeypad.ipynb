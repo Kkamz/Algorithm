{
 "cells": [
  {
   "cell_type": "code",
   "execution_count": null,
   "metadata": {},
   "outputs": [],
   "source": [
    "def solution(numbers, hand):\n",
    "    answer = ''\n",
    "    left = \"*\"\n",
    "    right = \"#\"\n",
    "    position = {1:[0,0],2:[0,1],3:[0,2],4:[1,0],5:[1,1],6:[1,2],7:[2,0],8:[2,1],9:[2,2],\"*\":[3,0],\n",
    "                      0:[3,1], \"#\":[3,2]}\n",
    "    for num in numbers:\n",
    "        if num == 1 or num == 4 or num ==7:\n",
    "            answer += \"L\"\n",
    "            left = num\n",
    "        elif num == 3 or num == 6 or num == 9:\n",
    "            answer += \"R\"\n",
    "            right = num\n",
    "        else:\n",
    "            ld = abs(position[left][0]- position[num][0]) + abs(position[left][1] - position[num][1])\n",
    "            rd = abs(position[right][0]- position[num][0]) + abs(position[right][1] - position[num][1])\n",
    "            \n",
    "            if ld > rd:\n",
    "                answer += \"R\"\n",
    "                right = num\n",
    "            elif rd > ld:\n",
    "                answer += \"L\"\n",
    "                left = num\n",
    "            else:\n",
    "                if hand == \"right\":\n",
    "                    answer += \"R\"\n",
    "                    right = num\n",
    "                else:\n",
    "                    answer += \"L\"\n",
    "                    left = num\n",
    "    return answer"
   ]
  }
 ],
 "metadata": {
  "kernelspec": {
   "display_name": "Python 3",
   "language": "python",
   "name": "python3"
  },
  "language_info": {
   "codemirror_mode": {
    "name": "ipython",
    "version": 3
   },
   "file_extension": ".py",
   "mimetype": "text/x-python",
   "name": "python",
   "nbconvert_exporter": "python",
   "pygments_lexer": "ipython3",
   "version": "3.8.5"
  }
 },
 "nbformat": 4,
 "nbformat_minor": 4
}
