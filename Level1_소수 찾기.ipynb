{
 "cells": [
  {
   "cell_type": "code",
   "execution_count": 1,
   "metadata": {},
   "outputs": [],
   "source": [
    "#문제 설명\n",
    "#1부터 입력받은 숫자 n 사이에 있는 소수의 개수를 반환하는 함수, solution을 만들어 보세요.\n",
    "#\n",
    "#소수는 1과 자기 자신으로만 나누어지는 수를 의미합니다.\n",
    "#(1은 소수가 아닙니다.)\n",
    "#\n",
    "#제한 조건\n",
    "#n은 2이상 1000000이하의 자연수입니다."
   ]
  },
  {
   "cell_type": "code",
   "execution_count": 2,
   "metadata": {},
   "outputs": [],
   "source": [
    "import math\n",
    "def solution(number):\n",
    "    numbers = [True] * (number + 1)\n",
    "    answer = 0\n",
    "\n",
    "    for num in range(2,int(math.sqrt(number))+1):\n",
    "        if numbers[num] == False:\n",
    "            continue;\n",
    "\n",
    "        for i in range(num+num,number+1,num):\n",
    "            numbers[i] = False\n",
    "\n",
    "    for i in range(2,number+1):\n",
    "        if numbers[i] == True:\n",
    "            answer+=1\n",
    "\n",
    "    return answer"
   ]
  },
  {
   "cell_type": "code",
   "execution_count": 3,
   "metadata": {},
   "outputs": [
    {
     "data": {
      "text/plain": [
       "4"
      ]
     },
     "execution_count": 3,
     "metadata": {},
     "output_type": "execute_result"
    }
   ],
   "source": [
    "solution(10)"
   ]
  },
  {
   "cell_type": "code",
   "execution_count": null,
   "metadata": {},
   "outputs": [],
   "source": []
  }
 ],
 "metadata": {
  "kernelspec": {
   "display_name": "Python 3",
   "language": "python",
   "name": "python3"
  },
  "language_info": {
   "codemirror_mode": {
    "name": "ipython",
    "version": 3
   },
   "file_extension": ".py",
   "mimetype": "text/x-python",
   "name": "python",
   "nbconvert_exporter": "python",
   "pygments_lexer": "ipython3",
   "version": "3.8.5"
  }
 },
 "nbformat": 4,
 "nbformat_minor": 4
}
