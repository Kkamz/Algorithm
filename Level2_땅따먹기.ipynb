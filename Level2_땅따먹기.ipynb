{
 "cells": [
  {
   "cell_type": "markdown",
   "metadata": {},
   "source": [
    "땅따먹기\n",
    "문제 설명\n",
    "땅따먹기 게임을 하려고 합니다. 땅따먹기 게임의 땅(land)은 총 N행 4열로 이루어져 있고, 모든 칸에는 점수가 쓰여 있습니다. 1행부터 땅을 밟으며 한 행씩 내려올 때, 각 행의 4칸 중 한 칸만 밟으면서 내려와야 합니다. 단, 땅따먹기 게임에는 한 행씩 내려올 때, 같은 열을 연속해서 밟을 수 없는 특수 규칙이 있습니다.\n",
    "\n",
    "예를 들면,\n",
    "\n",
    "| 1 | 2 | 3 | 5 |\n",
    "\n",
    "| 5 | 6 | 7 | 8 |\n",
    "\n",
    "| 4 | 3 | 2 | 1 |\n",
    "\n",
    "로 땅이 주어졌다면, 1행에서 네번째 칸 (5)를 밟았으면, 2행의 네번째 칸 (8)은 밟을 수 없습니다.\n",
    "\n",
    "마지막 행까지 모두 내려왔을 때, 얻을 수 있는 점수의 최대값을 return하는 solution 함수를 완성해 주세요. 위 예의 경우, 1행의 네번째 칸 (5), 2행의 세번째 칸 (7), 3행의 첫번째 칸 (4) 땅을 밟아 16점이 최고점이 되므로 16을 return 하면 됩니다.\n",
    "\n",
    "제한사항\n",
    "행의 개수 N : 100,000 이하의 자연수\n",
    "열의 개수는 4개이고, 땅(land)은 2차원 배열로 주어집니다.\n",
    "점수 : 100 이하의 자연수"
   ]
  },
  {
   "cell_type": "code",
   "execution_count": 53,
   "metadata": {},
   "outputs": [],
   "source": [
    "def solution(land):\n",
    "\n",
    "    for i in range(1,len(land)):\n",
    "        for j in range(4):\n",
    "            land[i][j] += max(land[i-1][:j] + land[i-1][j+1:])\n",
    "\n",
    "    return max(land[len(land)-1])"
   ]
  },
  {
   "cell_type": "code",
   "execution_count": 55,
   "metadata": {},
   "outputs": [
    {
     "data": {
      "text/plain": [
       "16"
      ]
     },
     "execution_count": 55,
     "metadata": {},
     "output_type": "execute_result"
    }
   ],
   "source": [
    "land = [[1,2,3,5],[5,6,7,8],[4,3,2,1]]\n",
    "solution(land)"
   ]
  },
  {
   "cell_type": "markdown",
   "metadata": {},
   "source": [
    "각 행마다 최대값을 찾아가는 것은 틀릴수 있다.\n",
    "그 오류를 범한 코드이다.\n",
    "테스트 케이스는 정답.\n",
    "그러나 제출시 모두 오답"
   ]
  },
  {
   "cell_type": "code",
   "execution_count": 58,
   "metadata": {},
   "outputs": [],
   "source": [
    "def solution(land):\n",
    "    count = max(land[0])\n",
    "    \n",
    "    for i in range(1,len(land)):\n",
    "        if land[i-1].index(max(land[i-1])) == land[i].index(max(land[i])):\n",
    "            land[i][land[i].index(max(land[i]))]=0\n",
    "            count += max(land[i])\n",
    "        else:\n",
    "            count += max(land[i])\n",
    "    return count"
   ]
  },
  {
   "cell_type": "code",
   "execution_count": 59,
   "metadata": {},
   "outputs": [
    {
     "data": {
      "text/plain": [
       "16"
      ]
     },
     "execution_count": 59,
     "metadata": {},
     "output_type": "execute_result"
    }
   ],
   "source": [
    "land = [[1,2,3,5],[5,6,7,8],[4,3,2,1]]\n",
    "solution(land)"
   ]
  }
 ],
 "metadata": {
  "kernelspec": {
   "display_name": "Python 3",
   "language": "python",
   "name": "python3"
  },
  "language_info": {
   "codemirror_mode": {
    "name": "ipython",
    "version": 3
   },
   "file_extension": ".py",
   "mimetype": "text/x-python",
   "name": "python",
   "nbconvert_exporter": "python",
   "pygments_lexer": "ipython3",
   "version": "3.8.5"
  }
 },
 "nbformat": 4,
 "nbformat_minor": 4
}
