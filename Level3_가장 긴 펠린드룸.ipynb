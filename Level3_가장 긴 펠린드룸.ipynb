{
 "cells": [
  {
   "cell_type": "markdown",
   "id": "0067240c",
   "metadata": {},
   "source": [
    "문제 설명\n",
    "앞뒤를 뒤집어도 똑같은 문자열을 팰린드롬(palindrome)이라고 합니다.\n",
    "문자열 s가 주어질 때, s의 부분문자열(Substring)중 가장 긴 팰린드롬의 길이를 return 하는 solution 함수를 완성해 주세요.\n",
    "\n",
    "예를들면, 문자열 s가 \"abcdcba\"이면 7을 return하고 \"abacde\"이면 3을 return합니다.\n",
    "\n",
    "제한사항\n",
    "문자열 s의 길이 : 2,500 이하의 자연수\n",
    "문자열 s는 알파벳 소문자로만 구성"
   ]
  },
  {
   "cell_type": "code",
   "execution_count": 1,
   "id": "ec4c4403",
   "metadata": {},
   "outputs": [],
   "source": [
    "def isPalindrome(x):\n",
    "    if x==x[::-1]:\n",
    "        return True\n",
    "    \n",
    "def solution(s):\n",
    "    if s==s[::-1]:\n",
    "        return len(s)\n",
    "    \n",
    "    result=0\n",
    "    for i in range(len(s)):\n",
    "        for j in range(i+1,len(s)+1):\n",
    "            if isPalindrome(s[i:j]):\n",
    "                if result < len(s[i:j]):\n",
    "                    result = len(s[i:j])\n",
    "    return result"
   ]
  },
  {
   "cell_type": "code",
   "execution_count": 2,
   "id": "f52918da",
   "metadata": {},
   "outputs": [
    {
     "data": {
      "text/plain": [
       "7"
      ]
     },
     "execution_count": 2,
     "metadata": {},
     "output_type": "execute_result"
    }
   ],
   "source": [
    "solution(\"abcdcba\")"
   ]
  },
  {
   "cell_type": "code",
   "execution_count": 3,
   "id": "c330f392",
   "metadata": {},
   "outputs": [
    {
     "data": {
      "text/plain": [
       "3"
      ]
     },
     "execution_count": 3,
     "metadata": {},
     "output_type": "execute_result"
    }
   ],
   "source": [
    "solution(\"abacde\")"
   ]
  },
  {
   "cell_type": "code",
   "execution_count": null,
   "id": "4a32a7a6",
   "metadata": {},
   "outputs": [],
   "source": []
  }
 ],
 "metadata": {
  "kernelspec": {
   "display_name": "Python 3 (ipykernel)",
   "language": "python",
   "name": "python3"
  },
  "language_info": {
   "codemirror_mode": {
    "name": "ipython",
    "version": 3
   },
   "file_extension": ".py",
   "mimetype": "text/x-python",
   "name": "python",
   "nbconvert_exporter": "python",
   "pygments_lexer": "ipython3",
   "version": "3.9.7"
  }
 },
 "nbformat": 4,
 "nbformat_minor": 5
}
