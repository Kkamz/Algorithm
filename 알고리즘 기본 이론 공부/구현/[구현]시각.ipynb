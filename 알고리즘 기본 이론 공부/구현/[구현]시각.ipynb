{
 "cells": [
  {
   "cell_type": "markdown",
   "id": "7be3bb35",
   "metadata": {},
   "source": [
    "[문제]\n",
    "정수 N이 입력되면 00시 00분 00초부터 N시 59분 59초까지의 모든 시각 중에서 3이 하나라도 포함되는 모든 경우의 수를\n",
    "\n",
    " \n",
    "\n",
    "구하는 프로그램을 작성하시오. 예를 들어 1을 입력했을 때 다음은 3이 하나라도 포함되어 있으므로 세어야 하는 시각이다.\n",
    "\n",
    " \n",
    "\n",
    "- 00시 00분 03초\n",
    "- 00시 13분 30초\n",
    " \n",
    "\n",
    "반면에 다음은 3이 하나도 포함되어 있지 않으므로 세면 안되는 시각이다.\n",
    "\n",
    " \n",
    "\n",
    "- 00시 02분 55초\n",
    "- 01시 27분 45초\n",
    " \n",
    "\n",
    "[입력 조건]\n",
    "1. 첫째 줄에 정수 N이 입력된다. (1 <= N <= 23)\n",
    "\n",
    " \n",
    "\n",
    "[출력 조건]\n",
    "00시 00분 00초부터 N시 59분 59초까지의 모든 시각 중에서 3이 하나라도 포함되는 모든 경우의 수를 출력한다.\n",
    "\n",
    "<입력 예시>\n",
    "5\n",
    "<출력 예시>\n",
    "11475"
   ]
  },
  {
   "cell_type": "code",
   "execution_count": 1,
   "id": "1083bf93",
   "metadata": {
    "scrolled": true
   },
   "outputs": [
    {
     "name": "stdout",
     "output_type": "stream",
     "text": [
      "5\n"
     ]
    }
   ],
   "source": [
    "num = int(input())"
   ]
  },
  {
   "cell_type": "code",
   "execution_count": 2,
   "id": "5fe3f2f8",
   "metadata": {},
   "outputs": [
    {
     "name": "stdout",
     "output_type": "stream",
     "text": [
      "11475\n"
     ]
    }
   ],
   "source": [
    "cnt = 0\n",
    "for i in range(num+1):\n",
    "    for j in range(60):\n",
    "        for k in range(60):\n",
    "            if \"3\" in (str(i)+str(j)+str(k)):\n",
    "                cnt +=1\n",
    "print(cnt)"
   ]
  }
 ],
 "metadata": {
  "kernelspec": {
   "display_name": "Python 3 (ipykernel)",
   "language": "python",
   "name": "python3"
  },
  "language_info": {
   "codemirror_mode": {
    "name": "ipython",
    "version": 3
   },
   "file_extension": ".py",
   "mimetype": "text/x-python",
   "name": "python",
   "nbconvert_exporter": "python",
   "pygments_lexer": "ipython3",
   "version": "3.9.7"
  }
 },
 "nbformat": 4,
 "nbformat_minor": 5
}
