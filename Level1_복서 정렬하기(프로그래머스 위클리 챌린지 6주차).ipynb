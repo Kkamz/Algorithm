{
 "cells": [
  {
   "cell_type": "markdown",
   "metadata": {},
   "source": [
    "문제 설명\n",
    "복서 선수들의 몸무게 weights와, 복서 선수들의 전적을 나타내는 head2head가 매개변수로 주어집니다. 복서 선수들의 번호를 다음과 같은 순서로 정렬한 후 return 하도록 solution 함수를 완성해주세요.\n",
    "\n",
    "전체 승률이 높은 복서의 번호가 앞쪽으로 갑니다. 아직 다른 복서랑 붙어본 적이 없는 복서의 승률은 0%로 취급합니다.\n",
    "승률이 동일한 복서의 번호들 중에서는 자신보다 몸무게가 무거운 복서를 이긴 횟수가 많은 복서의 번호가 앞쪽으로 갑니다.\n",
    "자신보다 무거운 복서를 이긴 횟수까지 동일한 복서의 번호들 중에서는 자기 몸무게가 무거운 복서의 번호가 앞쪽으로 갑니다.\n",
    "자기 몸무게까지 동일한 복서의 번호들 중에서는 작은 번호가 앞쪽으로 갑니다.\n",
    "제한사항\n",
    "weights의 길이는 2 이상 1,000 이하입니다.\n",
    "weights의 모든 값은 45 이상 150 이하의 정수입니다.\n",
    "weights[i] 는 i+1번 복서의 몸무게(kg)를 의미합니다.\n",
    "head2head의 길이는 weights의 길이와 같습니다.\n",
    "head2head의 모든 문자열은 길이가 weights의 길이와 동일하며, 'N', 'W', 'L'로 이루어진 문자열입니다.\n",
    "head2head[i] 는 i+1번 복서의 전적을 의미하며, head2head[i][j]는 i+1번 복서와 j+1번 복서의 매치 결과를 의미합니다.\n",
    "'N' (None)은 두 복서가 아직 붙어본 적이 없음을 의미합니다.\n",
    "'W' (Win)는 i+1번 복서가 j+1번 복서를 이겼음을 의미합니다.\n",
    "'L' (Lose)는 i+1번 복사가 j+1번 복서에게 졌음을 의미합니다.\n",
    "임의의 i에 대해서 head2head[i][i] 는 항상 'N'입니다. 자기 자신과 싸울 수는 없기 때문입니다.\n",
    "임의의 i, j에 대해서 head2head[i][j] = 'W' 이면, head2head[j][i] = 'L'입니다.\n",
    "임의의 i, j에 대해서 head2head[i][j] = 'L' 이면, head2head[j][i] = 'W'입니다.\n",
    "임의의 i, j에 대해서 head2head[i][j] = 'N' 이면, head2head[j][i] = 'N'입니다."
   ]
  },
  {
   "cell_type": "code",
   "execution_count": 1,
   "metadata": {},
   "outputs": [],
   "source": [
    "def solution(weights, head2head):\n",
    "    rate = []\n",
    "    heavy_rate =[0] * len(weights)\n",
    "    for i in range(len(weights)):\n",
    "        total = (head2head[i].count(\"W\") + head2head[i].count(\"L\"))\n",
    "        win_count = head2head[i].count(\"W\")\n",
    "        if total == 0:\n",
    "            rate.append(0)\n",
    "        else:\n",
    "            rate.append(100*(win_count/total))\n",
    "        for j in range(len(weights)):\n",
    "            if weights[i] < weights[j] and head2head[i][j] == \"W\" :\n",
    "                heavy_rate[i] += 1\n",
    "                \n",
    "    dict = []\n",
    "    for i in range(len(weights)) :\n",
    "        dict.append({\"index\": i, \"weight\" : weights[i], \"win\" : rate[i], \"heavy_rate\" :heavy_rate[i]})\n",
    "\n",
    "    dict.sort(key= lambda x : (-x[\"win\"],-x[\"heavy_rate\"],-x[\"weight\"]))\n",
    "    \n",
    "    return [x[\"index\"]+1 for x in dict]\n",
    "\n"
   ]
  },
  {
   "cell_type": "code",
   "execution_count": 2,
   "metadata": {},
   "outputs": [
    {
     "data": {
      "text/plain": [
       "[3, 4, 1, 2]"
      ]
     },
     "execution_count": 2,
     "metadata": {},
     "output_type": "execute_result"
    }
   ],
   "source": [
    "weights =[50,82,75,120]\t\n",
    "head2head = [\"NLWL\",\"WNLL\",\"LWNW\",\"WWLN\"]\n",
    "solution(weights, head2head)"
   ]
  },
  {
   "cell_type": "code",
   "execution_count": 3,
   "metadata": {},
   "outputs": [
    {
     "data": {
      "text/plain": [
       "[2, 3, 1]"
      ]
     },
     "execution_count": 3,
     "metadata": {},
     "output_type": "execute_result"
    }
   ],
   "source": [
    "weights =[145,92,86]\n",
    "head2head = [\"NLW\",\"WNL\",\"LWN\"]\n",
    "solution(weights, head2head)"
   ]
  },
  {
   "cell_type": "code",
   "execution_count": 4,
   "metadata": {},
   "outputs": [
    {
     "data": {
      "text/plain": [
       "[2, 1, 3]"
      ]
     },
     "execution_count": 4,
     "metadata": {},
     "output_type": "execute_result"
    }
   ],
   "source": [
    "weights =[60,70,60]\n",
    "head2head = [\"NNN\",\"NNN\",\"NNN\"]\n",
    "solution(weights, head2head)"
   ]
  },
  {
   "cell_type": "code",
   "execution_count": null,
   "metadata": {},
   "outputs": [],
   "source": []
  }
 ],
 "metadata": {
  "kernelspec": {
   "display_name": "Python 3",
   "language": "python",
   "name": "python3"
  },
  "language_info": {
   "codemirror_mode": {
    "name": "ipython",
    "version": 3
   },
   "file_extension": ".py",
   "mimetype": "text/x-python",
   "name": "python",
   "nbconvert_exporter": "python",
   "pygments_lexer": "ipython3",
   "version": "3.8.5"
  }
 },
 "nbformat": 4,
 "nbformat_minor": 4
}
