{
 "cells": [
  {
   "cell_type": "markdown",
   "metadata": {},
   "source": [
    "문제 설명\n",
    "개발자가 사용하는 언어와 언어 선호도를 입력하면 그에 맞는 직업군을 추천해주는 알고리즘을 개발하려고 합니다.\n",
    "\n",
    "아래 표는 5개 직업군 별로 많이 사용하는 5개 언어에 직업군 언어 점수를 부여한 표입니다.\n",
    "```\n",
    "점수\tSI\tCONTENTS\tHARDWARE\tPORTAL\tGAME\n",
    "5\tJAVA\tJAVASCRIPT\tC\tJAVA\tC++\n",
    "4\tJAVASCRIPT\tJAVA\tC++\tJAVASCRIPT\tC#\n",
    "3\tSQL\tPYTHON\tPYTHON\tPYTHON\tJAVASCRIPT\n",
    "2\tPYTHON\tSQL\tJAVA\tKOTLIN\tC\n",
    "1\tC#\tC++\tJAVASCRIPT\tPHP\tJAVA\n",
    "```\n",
    "예를 들면, SQL의 SI 직업군 언어 점수는 3점이지만 CONTENTS 직업군 언어 점수는 2점입니다. SQL의 HARDWARE, PORTAL, GAME 직업군 언어 점수는 0점입니다.\n",
    "\n",
    "직업군 언어 점수를 정리한 문자열 배열 table, 개발자가 사용하는 언어를 담은 문자열 배열 languages, 언어 선호도를 담은 정수 배열 preference가 매개변수로 주어집니다. 개발자가 사용하는 언어의 언어 선호도 x 직업군 언어 점수의 총합이 가장 높은 직업군을 return 하도록 solution 함수를 완성해주세요. 총합이 같은 직업군이 여러 개일 경우, 이름이 사전 순으로 가장 빠른 직업군을 return 해주세요.\n",
    "\n",
    "제한사항\n",
    "table의 길이 = 5\n",
    "table의 원소는 \"직업군 5점언어 4점언어 3점언어 2점언어 1점언어\"형식의 문자열입니다. 직업군, 5점언어, 4언어, 3점언어, 2점언어, 1점언어는 하나의 공백으로 구분되어 있습니다.\n",
    "table은 모든 테스트케이스에서 동일합니다.\n",
    "1 ≤ languages의 길이 ≤ 9\n",
    "languages의 원소는 \"JAVA\", \"JAVASCRIPT\", \"C\", \"C++\" ,\"C#\" , \"SQL\", \"PYTHON\", \"KOTLIN\", \"PHP\" 중 한 개 이상으로 이루어져 있습니다.\n",
    "languages의 원소는 중복되지 않습니다.\n",
    "preference의 길이 = languages의 길이\n",
    "1 ≤ preference의 원소 ≤ 10\n",
    "preference의 i번째 원소는 languages의 i번째 원소의 언어 선호도입니다.\n",
    "return 할 문자열은 \"SI\", \"CONTENTS\", \"HARDWARE\", \"PORTAL\", \"GAME\" 중 하나입니다."
   ]
  },
  {
   "cell_type": "code",
   "execution_count": 35,
   "metadata": {},
   "outputs": [],
   "source": [
    "def solution(table, languages, preference):\n",
    "    count = [0] * len(table)\n",
    "    answer = [\"SI\",\"CONTENTS\",\"HARDWARE\",\"PORTAL\",\"GAME\"]\n",
    "    for i in range(len(languages)):\n",
    "        for j in range(len(table)):\n",
    "            split_language = table[j].split(\" \")\n",
    "            language = split_language[1:]\n",
    "            language.reverse()\n",
    "            if languages[i] in language :\n",
    "                count[j] += int(preference[i]) * (language.index(languages[i])+1)\n",
    "            else:\n",
    "                count[j] += 0\n",
    "                \n",
    "    di = dict(zip(answer,count))  \n",
    "    max_score = list(k for k,v in di.items() if max(di.values()) == v)\n",
    "    if len(max_score) == 1:\n",
    "        return max_score[0]\n",
    "    else:\n",
    "        max_score.sort()\n",
    "        return max_score[0]"
   ]
  },
  {
   "cell_type": "code",
   "execution_count": 36,
   "metadata": {},
   "outputs": [],
   "source": [
    "table = [\"SI JAVA JAVASCRIPT SQL PYTHON C#\", \"CONTENTS JAVASCRIPT JAVA PYTHON SQL C++\", \"HARDWARE C C++ PYTHON JAVA JAVASCRIPT\", \"PORTAL JAVA JAVASCRIPT PYTHON KOTLIN PHP\", \"GAME C++ C# JAVASCRIPT C JAVA\"]"
   ]
  },
  {
   "cell_type": "code",
   "execution_count": 39,
   "metadata": {},
   "outputs": [
    {
     "data": {
      "text/plain": [
       "'HARDWARE'"
      ]
     },
     "execution_count": 39,
     "metadata": {},
     "output_type": "execute_result"
    }
   ],
   "source": [
    "languages=[\"PYTHON\", \"C++\", \"SQL\"]\n",
    "preference = [7, 5, 5]\n",
    "solution(table, languages, preference)"
   ]
  },
  {
   "cell_type": "code",
   "execution_count": 40,
   "metadata": {},
   "outputs": [
    {
     "data": {
      "text/plain": [
       "'PORTAL'"
      ]
     },
     "execution_count": 40,
     "metadata": {},
     "output_type": "execute_result"
    }
   ],
   "source": [
    "languages=[\"JAVA\", \"JAVASCRIPT\"]\n",
    "preference = [7, 5]\n",
    "solution(table, languages, preference)"
   ]
  },
  {
   "cell_type": "code",
   "execution_count": null,
   "metadata": {},
   "outputs": [],
   "source": []
  }
 ],
 "metadata": {
  "kernelspec": {
   "display_name": "Python 3",
   "language": "python",
   "name": "python3"
  },
  "language_info": {
   "codemirror_mode": {
    "name": "ipython",
    "version": 3
   },
   "file_extension": ".py",
   "mimetype": "text/x-python",
   "name": "python",
   "nbconvert_exporter": "python",
   "pygments_lexer": "ipython3",
   "version": "3.8.5"
  }
 },
 "nbformat": 4,
 "nbformat_minor": 4
}
