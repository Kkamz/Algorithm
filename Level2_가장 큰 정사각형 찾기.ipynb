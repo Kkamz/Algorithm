{
 "cells": [
  {
   "cell_type": "markdown",
   "id": "ff448286",
   "metadata": {},
   "source": [
    "문제 설명\n",
    "1와 0로 채워진 표(board)가 있습니다. 표 1칸은 1 x 1 의 정사각형으로 이루어져 있습니다. 표에서 1로 이루어진 가장 큰 정사각형을 찾아 넓이를 return 하는 solution 함수를 완성해 주세요. (단, 정사각형이란 축에 평행한 정사각형을 말합니다.)\n",
    "\n",
    "예를 들어\n",
    "```\n",
    "1\t2\t3\t4\n",
    "0\t1\t1\t1\n",
    "1\t1\t1\t1\n",
    "1\t1\t1\t1\n",
    "0\t0\t1\t0\n",
    "```\n",
    "가 있다면 가장 큰 정사각형은\n",
    "```\n",
    "1\t2\t3\t4\n",
    "0\t1\t1\t1\n",
    "1\t1\t1\t1\n",
    "1\t1\t1\t1\n",
    "0\t0\t1\t0\n",
    "```\n",
    "가 되며 넓이는 9가 되므로 9를 반환해 주면 됩니다.\n",
    "\n",
    "제한사항\n",
    "표(board)는 2차원 배열로 주어집니다.\n",
    "표(board)의 행(row)의 크기 : 1,000 이하의 자연수\n",
    "표(board)의 열(column)의 크기 : 1,000 이하의 자연수\n",
    "표(board)의 값은 1또는 0으로만 이루어져 있습니다.|"
   ]
  },
  {
   "cell_type": "code",
   "execution_count": 1,
   "id": "733201d1",
   "metadata": {},
   "outputs": [],
   "source": [
    "def solution(board):\n",
    "    n = len(board)\n",
    "    m = len(board[0])\n",
    "    result = 0\n",
    "\n",
    "    if n < 2 and (sum(board,[]) == 1):\n",
    "        return 1\n",
    "\n",
    "    if n < 2 and m == 1:\n",
    "        if board[0][0] == 0:\n",
    "            return 0\n",
    "        elif board[0][0] == 1:\n",
    "            return 1\n",
    "\n",
    "    for i in range(1,n):\n",
    "        for j in range(1,m):\n",
    "            if board[i][j] == 1:\n",
    "                board[i][j] = min(board[i-1][j-1],board[i][j-1],board[i-1][j])+1\n",
    "                result = max(result,board[i][j])\n",
    "\n",
    "    return result**2"
   ]
  },
  {
   "cell_type": "code",
   "execution_count": 4,
   "id": "868c3d93",
   "metadata": {},
   "outputs": [
    {
     "data": {
      "text/plain": [
       "9"
      ]
     },
     "execution_count": 4,
     "metadata": {},
     "output_type": "execute_result"
    }
   ],
   "source": [
    "board =[[0,1,1,1],[1,1,1,1],[1,1,1,1],[0,0,1,0]]\n",
    "solution(board)"
   ]
  },
  {
   "cell_type": "code",
   "execution_count": 5,
   "id": "7c311a3e",
   "metadata": {},
   "outputs": [
    {
     "data": {
      "text/plain": [
       "4"
      ]
     },
     "execution_count": 5,
     "metadata": {},
     "output_type": "execute_result"
    }
   ],
   "source": [
    "board = [[0,0,1,1],[1,1,1,1]]\n",
    "solution(board)"
   ]
  }
 ],
 "metadata": {
  "kernelspec": {
   "display_name": "Python 3 (ipykernel)",
   "language": "python",
   "name": "python3"
  },
  "language_info": {
   "codemirror_mode": {
    "name": "ipython",
    "version": 3
   },
   "file_extension": ".py",
   "mimetype": "text/x-python",
   "name": "python",
   "nbconvert_exporter": "python",
   "pygments_lexer": "ipython3",
   "version": "3.9.7"
  }
 },
 "nbformat": 4,
 "nbformat_minor": 5
}
