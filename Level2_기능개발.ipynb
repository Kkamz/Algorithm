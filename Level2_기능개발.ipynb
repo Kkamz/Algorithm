{
 "cells": [
  {
   "cell_type": "code",
   "execution_count": 112,
   "id": "d18dd054",
   "metadata": {},
   "outputs": [],
   "source": [
    "def solution(progresses, speeds):\n",
    "    answer = [0] * len(speeds)\n",
    "    i = 0\n",
    "    result=[]\n",
    "    while i < len(speeds):\n",
    "        if progresses[i] < 100:\n",
    "            progresses[i] += speeds[i]\n",
    "            answer[i] +=1\n",
    "        else:    \n",
    "            i+=1\n",
    "    \n",
    "    first_time = answer[0]\n",
    "    count = 1\n",
    "    for i in range(1,len(speeds)):\n",
    "        if first_time >= answer[i]:\n",
    "            count += 1\n",
    "        else:\n",
    "            result.append(count)\n",
    "            count = 1\n",
    "            first_time = answer[i]\n",
    "    result.append(count)\n",
    "    \n",
    "    return result\n",
    "    "
   ]
  },
  {
   "cell_type": "code",
   "execution_count": 113,
   "id": "623a6401",
   "metadata": {},
   "outputs": [],
   "source": [
    "progresses = [93, 30, 55]\n",
    "speeds =[1, 30, 5]"
   ]
  },
  {
   "cell_type": "code",
   "execution_count": 114,
   "id": "9f898e09",
   "metadata": {},
   "outputs": [
    {
     "data": {
      "text/plain": [
       "[2, 1]"
      ]
     },
     "execution_count": 114,
     "metadata": {},
     "output_type": "execute_result"
    }
   ],
   "source": [
    "solution(progresses, speeds)"
   ]
  },
  {
   "cell_type": "code",
   "execution_count": 115,
   "id": "af63603b",
   "metadata": {},
   "outputs": [],
   "source": [
    "progresses = [95, 90, 99, 99, 80, 99]\n",
    "speeds =[1, 1, 1, 1, 1, 1]"
   ]
  },
  {
   "cell_type": "code",
   "execution_count": 116,
   "id": "5a855bbd",
   "metadata": {},
   "outputs": [
    {
     "data": {
      "text/plain": [
       "[1, 3, 2]"
      ]
     },
     "execution_count": 116,
     "metadata": {},
     "output_type": "execute_result"
    }
   ],
   "source": [
    "solution(progresses, speeds)"
   ]
  },
  {
   "cell_type": "code",
   "execution_count": null,
   "id": "64620b50",
   "metadata": {},
   "outputs": [],
   "source": []
  },
  {
   "cell_type": "code",
   "execution_count": null,
   "id": "099cb8d4",
   "metadata": {},
   "outputs": [],
   "source": []
  }
 ],
 "metadata": {
  "kernelspec": {
   "display_name": "Python 3 (ipykernel)",
   "language": "python",
   "name": "python3"
  },
  "language_info": {
   "codemirror_mode": {
    "name": "ipython",
    "version": 3
   },
   "file_extension": ".py",
   "mimetype": "text/x-python",
   "name": "python",
   "nbconvert_exporter": "python",
   "pygments_lexer": "ipython3",
   "version": "3.8.10"
  }
 },
 "nbformat": 4,
 "nbformat_minor": 5
}
