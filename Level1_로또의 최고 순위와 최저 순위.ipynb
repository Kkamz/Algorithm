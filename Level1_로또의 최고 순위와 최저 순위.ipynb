{
 "cells": [
  {
   "cell_type": "code",
   "execution_count": null,
   "metadata": {},
   "outputs": [],
   "source": [
    "#문제 설명\n",
    "#로또 6/45(이하 '로또'로 표기)는 1부터 45까지의 숫자 중 6개를 찍어서 맞히는 대표적인 복권입니다. 아래는 로또의 순위를 정하는 방식입니다. 1\n",
    "#\n",
    "#순위\t당첨 내용\n",
    "#1\t6개 번호가 모두 일치\n",
    "#2\t5개 번호가 일치\n",
    "#3\t4개 번호가 일치\n",
    "#4\t3개 번호가 일치\n",
    "#5\t2개 번호가 일치\n",
    "#6(낙첨)\t그 외\n",
    "#로또를 구매한 민우는 당첨 번호 발표일을 학수고대하고 있었습니다. 하지만, 민우의 동생이 로또에 낙서를 하여, 일부 번호를 알아볼 수 없게 되었습니다. 당첨 번호 발표 후, 민우는 자신이 구매했던 로또로 당첨이 가능했던 최고 순위와 최저 순위를 알아보고 싶어 졌습니다.\n",
    "#알아볼 수 없는 번호를 0으로 표기하기로 하고, 민우가 구매한 로또 번호 6개가 44, 1, 0, 0, 31 25라고 가정해보겠습니다. 당첨 번호 6개가 31, 10, 45, 1, 6, 19라면, 당첨 가능한 최고 순위와 최저 순위의 한 예는 아래와 같습니다.\n",
    "#\n",
    "#당첨 번호\t31\t10\t45\t1\t6\t19\t결과\n",
    "#최고 순위 번호\t31\t0→10\t44\t1\t0→6\t25\t4개 번호 일치, 3등\n",
    "#최저 순위 번호\t31\t0→11\t44\t1\t0→7\t25\t2개 번호 일치, 5등\n",
    "#순서와 상관없이, 구매한 로또에 당첨 번호와 일치하는 번호가 있으면 맞힌 걸로 인정됩니다.\n",
    "#알아볼 수 없는 두 개의 번호를 각각 10, 6이라고 가정하면 3등에 당첨될 수 있습니다.\n",
    "#3등을 만드는 다른 방법들도 존재합니다. 하지만, 2등 이상으로 만드는 것은 불가능합니다.\n",
    "#알아볼 수 없는 두 개의 번호를 각각 11, 7이라고 가정하면 5등에 당첨될 수 있습니다.\n",
    "#5등을 만드는 다른 방법들도 존재합니다. 하지만, 6등(낙첨)으로 만드는 것은 불가능합니다.\n",
    "#민우가 구매한 로또 번호를 담은 배열 lottos, 당첨 번호를 담은 배열 win_nums가 매개변수로 주어집니다. 이때, 당첨 가능한 최고 순위와 최저 순위를 차례대로 배열에 담아서 return 하도록 solution 함수를 완성해주세요.\n",
    "#\n",
    "#제한사항\n",
    "#lottos는 길이 6인 정수 배열입니다.\n",
    "#lottos의 모든 원소는 0 이상 45 이하인 정수입니다.\n",
    "#0은 알아볼 수 없는 숫자를 의미합니다.\n",
    "#0을 제외한 다른 숫자들은 lottos에 2개 이상 담겨있지 않습니다.\n",
    "#lottos의 원소들은 정렬되어 있지 않을 수도 있습니다.\n",
    "#win_nums은 길이 6인 정수 배열입니다.\n",
    "#win_nums의 모든 원소는 1 이상 45 이하인 정수입니다.\n",
    "#win_nums에는 같은 숫자가 2개 이상 담겨있지 않습니다.\n",
    "#win_nums의 원소들은 정렬되어 있지 않을 수도 있습니다."
   ]
  },
  {
   "cell_type": "code",
   "execution_count": 5,
   "metadata": {},
   "outputs": [],
   "source": [
    "def solution(lottos, win_nums):\n",
    "    false_num, zero_num = 0,0\n",
    "    \n",
    "    for i in lottos:\n",
    "        if i == 0:\n",
    "            zero_num += 1\n",
    "        else:\n",
    "            if i not in win_nums:\n",
    "                false_num += 1\n",
    "    max_rank = false_num + 1\n",
    "    min_rank = max_rank + zero_num\n",
    "    \n",
    "    if max_rank == 7:\n",
    "        max_rank = 6\n",
    "    if min_rank == 7:\n",
    "        min_rank = 6\n",
    "    \n",
    "    return [max_rank,min_rank]\n",
    "    "
   ]
  },
  {
   "cell_type": "code",
   "execution_count": 6,
   "metadata": {},
   "outputs": [],
   "source": [
    "lottos = [44, 1, 0, 0, 31, 25]\n",
    "win_nums = [31, 10, 45, 1, 6, 19]"
   ]
  },
  {
   "cell_type": "code",
   "execution_count": 7,
   "metadata": {},
   "outputs": [
    {
     "data": {
      "text/plain": [
       "[3, 5]"
      ]
     },
     "execution_count": 7,
     "metadata": {},
     "output_type": "execute_result"
    }
   ],
   "source": [
    "solution(lottos, win_nums)"
   ]
  },
  {
   "cell_type": "code",
   "execution_count": null,
   "metadata": {},
   "outputs": [],
   "source": []
  }
 ],
 "metadata": {
  "kernelspec": {
   "display_name": "Python 3",
   "language": "python",
   "name": "python3"
  },
  "language_info": {
   "codemirror_mode": {
    "name": "ipython",
    "version": 3
   },
   "file_extension": ".py",
   "mimetype": "text/x-python",
   "name": "python",
   "nbconvert_exporter": "python",
   "pygments_lexer": "ipython3",
   "version": "3.8.5"
  }
 },
 "nbformat": 4,
 "nbformat_minor": 4
}
