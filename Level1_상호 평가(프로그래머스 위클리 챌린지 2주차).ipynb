{
 "cells": [
  {
   "cell_type": "code",
   "execution_count": null,
   "metadata": {},
   "outputs": [],
   "source": [
    "#문제 설명\n",
    "#대학 교수인 당신은, 상호평가를 통하여 학생들이 제출한 과제물에 학점을 부여하려고 합니다. 아래는 0번부터 4번까지 번호가 매겨진 5명의 학생들이 자신과 다른 학생의 과제를 평가한 점수표입니다.\n",
    "#\n",
    "#No.\t0\t1\t2\t3\t4\n",
    "#0\t100\t90\t98\t88\t65\n",
    "#1\t50\t45\t99\t85\t77\n",
    "#2\t47\t88\t95\t80\t67\n",
    "#3\t61\t57\t100\t80\t65\n",
    "#4\t24\t90\t94\t75\t65\n",
    "#평균\t45.5\t81.25\t97.2\t81.6\t67.8\n",
    "#학점\tF\tB\tA\tB\tD\n",
    "#위의 점수표에서, i행 j열의 값은 i번 학생이 평가한 j번 학생의 과제 점수입니다.\n",
    "#\n",
    "#0번 학생이 평가한 점수는 0번 행에담긴 [100, 90, 98, 88, 65]입니다.\n",
    "#0번 학생은 자기 자신에게 100점, 1번 학생에게 90점, 2번 학생에게 98점, 3번 학생에게 88점, 4번 학생에게 65점을 부여했습니다.\n",
    "#2번 학생이 평가한 점수는 2번 행에담긴 [47, 88, 95, 80, 67]입니다.\n",
    "#2번 학생은 0번 학생에게 47점, 1번 학생에게 88점, 자기 자신에게 95점, 3번 학생에게 80점, 4번 학생에게 67점을 부여했습니다.\n",
    "#당신은 각 학생들이 받은 점수의 평균을 구하여, 기준에 따라 학점을 부여하려고 합니다.\n",
    "#만약, 학생들이 자기 자신을 평가한 점수가 유일한 최고점 또는 유일한 최저점이라면 그 점수는 제외하고 평균을 구합니다.\n",
    "#\n",
    "#0번 학생이 받은 점수는 0번 열에 담긴 [100, 50, 47, 61, 24]입니다. 자기 자신을 평가한 100점은 자신이 받은 점수 중에서 유일한 최고점이므로, 평균을 구할 때 제외합니다.\n",
    "#0번 학생의 평균 점수는 (50+47+61+24) / 4 = 45.5입니다.\n",
    "#4번 학생이 받은 점수는 4번 열에 담긴 [65, 77, 67, 65, 65]입니다. 자기 자신을 평가한 65점은 자신이 받은 점수 중에서 최저점이지만 같은 점수가 2개 더 있으므로, 유일한 최저점이 아닙니다. 따라서, 평균을 구할 때 제외하지 않습니다.\n",
    "#4번 학생의 평균 점수는 (65+77+67+65+65) / 5 = 67.8입니다.\n",
    "#제외할 점수는 제외하고 평균을 구한 후, 아래 기준에 따라 학점을 부여합니다.\n",
    "#\n",
    "#평균\t학점\n",
    "#90점 이상\tA\n",
    "#80점 이상 90점 미만\tB\n",
    "#70점 이상 80점 미만\tC\n",
    "#50점 이상 70점 미만\tD\n",
    "#50점 미만\tF\n",
    "#학생들의 점수가 담긴 정수형 2차원 배열 scores가 매개변수로 주어집니다. 이때, 학생들의 학점을 구하여 하나의 문자열로 만들어서 return 하도록 solution 함수를 완성해주세요.\n",
    "#\n",
    "#제한사항\n",
    "#2 ≤ scores의 행의 길이(학생 수) ≤ 10\n",
    "#scores의 열의 길이 = scores의 행의 길이\n",
    "#즉, scores는 행과 열의 길이가 같은 2차원 배열입니다.\n",
    "#0 ≤ scores의 원소 ≤ 100\n",
    "#return 값 형식\n",
    "#0번 학생의 학점부터 차례대로 이어 붙인 하나의 문자열을 return 합니다."
   ]
  },
  {
   "cell_type": "code",
   "execution_count": 44,
   "metadata": {},
   "outputs": [],
   "source": [
    "import numpy as np\n",
    "import pandas as pd\n",
    "\n",
    "def solution(scores):\n",
    "    answer =[]\n",
    "    ar = np.array(scores)\n",
    "    ar = ar.transpose()\n",
    "    for i in range(len(scores)):\n",
    "        a = ar[i].tolist()\n",
    "        if (ar[i][i] == max(a) and (a.count(max(a)) == 1)) or (ar[i][i] == min(a) and (a.count(min(a)) == 1)):\n",
    "            ar[i][i] = 0 \n",
    "            average = sum(ar[i])/(len(ar[i])-1)\n",
    "            if average >= 90 :\n",
    "                answer.append(\"A\")\n",
    "            elif average >= 80:\n",
    "                answer.append(\"B\")\n",
    "            elif average >= 70:\n",
    "                answer.append(\"C\")\n",
    "            elif average >= 50:\n",
    "                answer.append(\"D\")\n",
    "            else:\n",
    "                answer.append(\"F\")\n",
    "        else:\n",
    "            average = sum(ar[i])/len(ar[i])\n",
    "            if average >= 90:\n",
    "                answer.append(\"A\")\n",
    "            elif average >= 80:\n",
    "                answer.append(\"B\")\n",
    "            elif average >= 70:\n",
    "                answer.append(\"C\")\n",
    "            elif average >= 50:\n",
    "                answer.append(\"D\")\n",
    "            else:\n",
    "                answer.append(\"F\")\n",
    "                    \n",
    "    return \"\".join(answer)"
   ]
  },
  {
   "cell_type": "code",
   "execution_count": 45,
   "metadata": {},
   "outputs": [
    {
     "data": {
      "text/plain": [
       "'FBABD'"
      ]
     },
     "execution_count": 45,
     "metadata": {},
     "output_type": "execute_result"
    }
   ],
   "source": [
    "scores =[[100,90,98,88,65],[50,45,99,85,77],[47,88,95,80,67],[61,57,100,80,65],[24,90,94,75,65]]\n",
    "solution(scores)"
   ]
  },
  {
   "cell_type": "code",
   "execution_count": 46,
   "metadata": {},
   "outputs": [
    {
     "data": {
      "text/plain": [
       "'DA'"
      ]
     },
     "execution_count": 46,
     "metadata": {},
     "output_type": "execute_result"
    }
   ],
   "source": [
    "scores = [[50,90],[50,87]]\n",
    "solution(scores)"
   ]
  },
  {
   "cell_type": "code",
   "execution_count": 47,
   "metadata": {},
   "outputs": [
    {
     "data": {
      "text/plain": [
       "'CFD'"
      ]
     },
     "execution_count": 47,
     "metadata": {},
     "output_type": "execute_result"
    }
   ],
   "source": [
    "scores = [[70,49,90],[68,50,38],[73,31,100]]\n",
    "solution(scores)"
   ]
  },
  {
   "cell_type": "code",
   "execution_count": 49,
   "metadata": {},
   "outputs": [
    {
     "data": {
      "text/plain": [
       "'BBF'"
      ]
     },
     "execution_count": 49,
     "metadata": {},
     "output_type": "execute_result"
    }
   ],
   "source": [
    "scores = [[75, 50, 100], [75, 100, 20], [100, 100, 20]]\n",
    "solution(scores)"
   ]
  },
  {
   "cell_type": "code",
   "execution_count": null,
   "metadata": {},
   "outputs": [],
   "source": []
  },
  {
   "cell_type": "code",
   "execution_count": null,
   "metadata": {},
   "outputs": [],
   "source": []
  }
 ],
 "metadata": {
  "kernelspec": {
   "display_name": "Python 3",
   "language": "python",
   "name": "python3"
  },
  "language_info": {
   "codemirror_mode": {
    "name": "ipython",
    "version": 3
   },
   "file_extension": ".py",
   "mimetype": "text/x-python",
   "name": "python",
   "nbconvert_exporter": "python",
   "pygments_lexer": "ipython3",
   "version": "3.8.5"
  }
 },
 "nbformat": 4,
 "nbformat_minor": 4
}
