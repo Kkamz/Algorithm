{
 "cells": [
  {
   "cell_type": "code",
   "execution_count": 1,
   "metadata": {},
   "outputs": [],
   "source": [
    "#셀수있는 수량의 순서있는 열거 또는 어떤 순서를 따르는 요소들의 모음을 튜플(tuple)이라고 합니다. \n",
    "#n개의 요소를 가진 튜플을 n-튜플(n-tuple)이라고 하며, 다음과 같이 표현할 수 있습니다.\n",
    "#\n",
    "#(a1, a2, a3, ..., an)\n",
    "#튜플은 다음과 같은 성질을 가지고 있습니다.\n",
    "#\n",
    "#중복된 원소가 있을 수 있습니다. ex : (2, 3, 1, 2)\n",
    "#원소에 정해진 순서가 있으며, 원소의 순서가 다르면 서로 다른 튜플입니다. ex : (1, 2, 3) ≠ (1, 3, 2)\n",
    "#튜플의 원소 개수는 유한합니다.\n",
    "#원소의 개수가 n개이고, 중복되는 원소가 없는 튜플 (a1, a2, a3, ..., an)이 주어질 때(단, a1, a2, ..., an은 자연수), \n",
    "#이는 다음과 같이 집합 기호 '{', '}'를 이용해 표현할 수 있습니다.\n",
    "#\n",
    "#{{a1}, {a1, a2}, {a1, a2, a3}, {a1, a2, a3, a4}, ... {a1, a2, a3, a4, ..., an}}\n",
    "#예를 들어 튜플이 (2, 1, 3, 4)인 경우 이는\n",
    "#\n",
    "#{{2}, {2, 1}, {2, 1, 3}, {2, 1, 3, 4}}\n",
    "#와 같이 표현할 수 있습니다. 이때, 집합은 원소의 순서가 바뀌어도 상관없으므로\n",
    "#\n",
    "#{{2}, {2, 1}, {2, 1, 3}, {2, 1, 3, 4}}\n",
    "#{{2, 1, 3, 4}, {2}, {2, 1, 3}, {2, 1}}\n",
    "#{{1, 2, 3}, {2, 1}, {1, 2, 4, 3}, {2}}\n",
    "#는 모두 같은 튜플 (2, 1, 3, 4)를 나타냅니다.\n",
    "#\n",
    "#특정 튜플을 표현하는 집합이 담긴 문자열 s가 매개변수로 주어질 때, s가 표현하는 튜플을 배열에 담아 return 하도록 solution 함수를 완성해주세요."
   ]
  },
  {
   "cell_type": "code",
   "execution_count": 2,
   "metadata": {},
   "outputs": [],
   "source": [
    "def solution(s):\n",
    "    answer = []\n",
    "    s = s[2:-2]\n",
    "    s = s.split(\"},{\")\n",
    "    s.sort(key = len)\n",
    "    for i in s:\n",
    "        ii = i.split(',')\n",
    "        for j in ii:\n",
    "            if int(j) not in answer:\n",
    "                answer.append(int(j))\n",
    "    return answer"
   ]
  },
  {
   "cell_type": "code",
   "execution_count": 3,
   "metadata": {},
   "outputs": [
    {
     "data": {
      "text/plain": [
       "[2, 1, 3, 4]"
      ]
     },
     "execution_count": 3,
     "metadata": {},
     "output_type": "execute_result"
    }
   ],
   "source": [
    "solution(\"{{2},{2,1},{2,1,3},{2,1,3,4}}\")"
   ]
  },
  {
   "cell_type": "code",
   "execution_count": 4,
   "metadata": {},
   "outputs": [
    {
     "data": {
      "text/plain": [
       "[4, 2, 3, 1]"
      ]
     },
     "execution_count": 4,
     "metadata": {},
     "output_type": "execute_result"
    }
   ],
   "source": [
    "solution(\"{{4,2,3},{3},{2,3,4,1},{2,3}}\")"
   ]
  },
  {
   "cell_type": "code",
   "execution_count": null,
   "metadata": {},
   "outputs": [],
   "source": []
  }
 ],
 "metadata": {
  "kernelspec": {
   "display_name": "Python 3",
   "language": "python",
   "name": "python3"
  },
  "language_info": {
   "codemirror_mode": {
    "name": "ipython",
    "version": 3
   },
   "file_extension": ".py",
   "mimetype": "text/x-python",
   "name": "python",
   "nbconvert_exporter": "python",
   "pygments_lexer": "ipython3",
   "version": "3.8.5"
  }
 },
 "nbformat": 4,
 "nbformat_minor": 4
}
